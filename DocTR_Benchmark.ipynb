{
  "nbformat": 4,
  "nbformat_minor": 0,
  "metadata": {
    "colab": {
      "provenance": []
    },
    "kernelspec": {
      "name": "python3",
      "display_name": "Python 3"
    },
    "language_info": {
      "name": "python"
    },
    "widgets": {
      "application/vnd.jupyter.widget-state+json": {
        "38852a65bb1540dea214fd125ad56ab7": {
          "model_module": "@jupyter-widgets/controls",
          "model_name": "HBoxModel",
          "model_module_version": "1.5.0",
          "state": {
            "_dom_classes": [],
            "_model_module": "@jupyter-widgets/controls",
            "_model_module_version": "1.5.0",
            "_model_name": "HBoxModel",
            "_view_count": null,
            "_view_module": "@jupyter-widgets/controls",
            "_view_module_version": "1.5.0",
            "_view_name": "HBoxView",
            "box_style": "",
            "children": [
              "IPY_MODEL_e9ed3b55b7104f338a3fada750698f90",
              "IPY_MODEL_45f45d03ccdc41a78d2cfdecf0bea48e",
              "IPY_MODEL_aa452edf437d4dcf8f2b3dd3423ede05"
            ],
            "layout": "IPY_MODEL_19913cc18a044b889c13c790b1f6fa8d"
          }
        },
        "e9ed3b55b7104f338a3fada750698f90": {
          "model_module": "@jupyter-widgets/controls",
          "model_name": "HTMLModel",
          "model_module_version": "1.5.0",
          "state": {
            "_dom_classes": [],
            "_model_module": "@jupyter-widgets/controls",
            "_model_module_version": "1.5.0",
            "_model_name": "HTMLModel",
            "_view_count": null,
            "_view_module": "@jupyter-widgets/controls",
            "_view_module_version": "1.5.0",
            "_view_name": "HTMLView",
            "description": "",
            "description_tooltip": null,
            "layout": "IPY_MODEL_ce0d3d11e0574834b337485e5fd43930",
            "placeholder": "​",
            "style": "IPY_MODEL_3a91c5cd5fa9411d92b8549ef11cb399",
            "value": ""
          }
        },
        "45f45d03ccdc41a78d2cfdecf0bea48e": {
          "model_module": "@jupyter-widgets/controls",
          "model_name": "FloatProgressModel",
          "model_module_version": "1.5.0",
          "state": {
            "_dom_classes": [],
            "_model_module": "@jupyter-widgets/controls",
            "_model_module_version": "1.5.0",
            "_model_name": "FloatProgressModel",
            "_view_count": null,
            "_view_module": "@jupyter-widgets/controls",
            "_view_module_version": "1.5.0",
            "_view_name": "ProgressView",
            "bar_style": "success",
            "description": "",
            "description_tooltip": null,
            "layout": "IPY_MODEL_fd16291ce9244a2fbc43fb870cf1512f",
            "max": 101971449,
            "min": 0,
            "orientation": "horizontal",
            "style": "IPY_MODEL_453e311aaf154665a57a022865852360",
            "value": 101971449
          }
        },
        "aa452edf437d4dcf8f2b3dd3423ede05": {
          "model_module": "@jupyter-widgets/controls",
          "model_name": "HTMLModel",
          "model_module_version": "1.5.0",
          "state": {
            "_dom_classes": [],
            "_model_module": "@jupyter-widgets/controls",
            "_model_module_version": "1.5.0",
            "_model_name": "HTMLModel",
            "_view_count": null,
            "_view_module": "@jupyter-widgets/controls",
            "_view_module_version": "1.5.0",
            "_view_name": "HTMLView",
            "description": "",
            "description_tooltip": null,
            "layout": "IPY_MODEL_6ffcde07c60644b68afa47d284ee1181",
            "placeholder": "​",
            "style": "IPY_MODEL_53cfbed6159f4028b9011c4933a64fa5",
            "value": " 101971968/? [00:19&lt;00:00, 2612604.65it/s]"
          }
        },
        "19913cc18a044b889c13c790b1f6fa8d": {
          "model_module": "@jupyter-widgets/base",
          "model_name": "LayoutModel",
          "model_module_version": "1.2.0",
          "state": {
            "_model_module": "@jupyter-widgets/base",
            "_model_module_version": "1.2.0",
            "_model_name": "LayoutModel",
            "_view_count": null,
            "_view_module": "@jupyter-widgets/base",
            "_view_module_version": "1.2.0",
            "_view_name": "LayoutView",
            "align_content": null,
            "align_items": null,
            "align_self": null,
            "border": null,
            "bottom": null,
            "display": null,
            "flex": null,
            "flex_flow": null,
            "grid_area": null,
            "grid_auto_columns": null,
            "grid_auto_flow": null,
            "grid_auto_rows": null,
            "grid_column": null,
            "grid_gap": null,
            "grid_row": null,
            "grid_template_areas": null,
            "grid_template_columns": null,
            "grid_template_rows": null,
            "height": null,
            "justify_content": null,
            "justify_items": null,
            "left": null,
            "margin": null,
            "max_height": null,
            "max_width": null,
            "min_height": null,
            "min_width": null,
            "object_fit": null,
            "object_position": null,
            "order": null,
            "overflow": null,
            "overflow_x": null,
            "overflow_y": null,
            "padding": null,
            "right": null,
            "top": null,
            "visibility": null,
            "width": null
          }
        },
        "ce0d3d11e0574834b337485e5fd43930": {
          "model_module": "@jupyter-widgets/base",
          "model_name": "LayoutModel",
          "model_module_version": "1.2.0",
          "state": {
            "_model_module": "@jupyter-widgets/base",
            "_model_module_version": "1.2.0",
            "_model_name": "LayoutModel",
            "_view_count": null,
            "_view_module": "@jupyter-widgets/base",
            "_view_module_version": "1.2.0",
            "_view_name": "LayoutView",
            "align_content": null,
            "align_items": null,
            "align_self": null,
            "border": null,
            "bottom": null,
            "display": null,
            "flex": null,
            "flex_flow": null,
            "grid_area": null,
            "grid_auto_columns": null,
            "grid_auto_flow": null,
            "grid_auto_rows": null,
            "grid_column": null,
            "grid_gap": null,
            "grid_row": null,
            "grid_template_areas": null,
            "grid_template_columns": null,
            "grid_template_rows": null,
            "height": null,
            "justify_content": null,
            "justify_items": null,
            "left": null,
            "margin": null,
            "max_height": null,
            "max_width": null,
            "min_height": null,
            "min_width": null,
            "object_fit": null,
            "object_position": null,
            "order": null,
            "overflow": null,
            "overflow_x": null,
            "overflow_y": null,
            "padding": null,
            "right": null,
            "top": null,
            "visibility": null,
            "width": null
          }
        },
        "3a91c5cd5fa9411d92b8549ef11cb399": {
          "model_module": "@jupyter-widgets/controls",
          "model_name": "DescriptionStyleModel",
          "model_module_version": "1.5.0",
          "state": {
            "_model_module": "@jupyter-widgets/controls",
            "_model_module_version": "1.5.0",
            "_model_name": "DescriptionStyleModel",
            "_view_count": null,
            "_view_module": "@jupyter-widgets/base",
            "_view_module_version": "1.2.0",
            "_view_name": "StyleView",
            "description_width": ""
          }
        },
        "fd16291ce9244a2fbc43fb870cf1512f": {
          "model_module": "@jupyter-widgets/base",
          "model_name": "LayoutModel",
          "model_module_version": "1.2.0",
          "state": {
            "_model_module": "@jupyter-widgets/base",
            "_model_module_version": "1.2.0",
            "_model_name": "LayoutModel",
            "_view_count": null,
            "_view_module": "@jupyter-widgets/base",
            "_view_module_version": "1.2.0",
            "_view_name": "LayoutView",
            "align_content": null,
            "align_items": null,
            "align_self": null,
            "border": null,
            "bottom": null,
            "display": null,
            "flex": null,
            "flex_flow": null,
            "grid_area": null,
            "grid_auto_columns": null,
            "grid_auto_flow": null,
            "grid_auto_rows": null,
            "grid_column": null,
            "grid_gap": null,
            "grid_row": null,
            "grid_template_areas": null,
            "grid_template_columns": null,
            "grid_template_rows": null,
            "height": null,
            "justify_content": null,
            "justify_items": null,
            "left": null,
            "margin": null,
            "max_height": null,
            "max_width": null,
            "min_height": null,
            "min_width": null,
            "object_fit": null,
            "object_position": null,
            "order": null,
            "overflow": null,
            "overflow_x": null,
            "overflow_y": null,
            "padding": null,
            "right": null,
            "top": null,
            "visibility": null,
            "width": null
          }
        },
        "453e311aaf154665a57a022865852360": {
          "model_module": "@jupyter-widgets/controls",
          "model_name": "ProgressStyleModel",
          "model_module_version": "1.5.0",
          "state": {
            "_model_module": "@jupyter-widgets/controls",
            "_model_module_version": "1.5.0",
            "_model_name": "ProgressStyleModel",
            "_view_count": null,
            "_view_module": "@jupyter-widgets/base",
            "_view_module_version": "1.2.0",
            "_view_name": "StyleView",
            "bar_color": null,
            "description_width": ""
          }
        },
        "6ffcde07c60644b68afa47d284ee1181": {
          "model_module": "@jupyter-widgets/base",
          "model_name": "LayoutModel",
          "model_module_version": "1.2.0",
          "state": {
            "_model_module": "@jupyter-widgets/base",
            "_model_module_version": "1.2.0",
            "_model_name": "LayoutModel",
            "_view_count": null,
            "_view_module": "@jupyter-widgets/base",
            "_view_module_version": "1.2.0",
            "_view_name": "LayoutView",
            "align_content": null,
            "align_items": null,
            "align_self": null,
            "border": null,
            "bottom": null,
            "display": null,
            "flex": null,
            "flex_flow": null,
            "grid_area": null,
            "grid_auto_columns": null,
            "grid_auto_flow": null,
            "grid_auto_rows": null,
            "grid_column": null,
            "grid_gap": null,
            "grid_row": null,
            "grid_template_areas": null,
            "grid_template_columns": null,
            "grid_template_rows": null,
            "height": null,
            "justify_content": null,
            "justify_items": null,
            "left": null,
            "margin": null,
            "max_height": null,
            "max_width": null,
            "min_height": null,
            "min_width": null,
            "object_fit": null,
            "object_position": null,
            "order": null,
            "overflow": null,
            "overflow_x": null,
            "overflow_y": null,
            "padding": null,
            "right": null,
            "top": null,
            "visibility": null,
            "width": null
          }
        },
        "53cfbed6159f4028b9011c4933a64fa5": {
          "model_module": "@jupyter-widgets/controls",
          "model_name": "DescriptionStyleModel",
          "model_module_version": "1.5.0",
          "state": {
            "_model_module": "@jupyter-widgets/controls",
            "_model_module_version": "1.5.0",
            "_model_name": "DescriptionStyleModel",
            "_view_count": null,
            "_view_module": "@jupyter-widgets/base",
            "_view_module_version": "1.2.0",
            "_view_name": "StyleView",
            "description_width": ""
          }
        },
        "185ea7a7fac24274bc9ab90505dcd9c0": {
          "model_module": "@jupyter-widgets/controls",
          "model_name": "HBoxModel",
          "model_module_version": "1.5.0",
          "state": {
            "_dom_classes": [],
            "_model_module": "@jupyter-widgets/controls",
            "_model_module_version": "1.5.0",
            "_model_name": "HBoxModel",
            "_view_count": null,
            "_view_module": "@jupyter-widgets/controls",
            "_view_module_version": "1.5.0",
            "_view_name": "HBoxView",
            "box_style": "",
            "children": [
              "IPY_MODEL_7671d676bd164a3dacb908a227742bf9",
              "IPY_MODEL_f01cd0a35c6e49658fc485a664e2d1cc",
              "IPY_MODEL_a4ab89fd5ea44e208d9f0919f9c33034"
            ],
            "layout": "IPY_MODEL_8c6cb3e9c0414e2b8c8506433d19e619"
          }
        },
        "7671d676bd164a3dacb908a227742bf9": {
          "model_module": "@jupyter-widgets/controls",
          "model_name": "HTMLModel",
          "model_module_version": "1.5.0",
          "state": {
            "_dom_classes": [],
            "_model_module": "@jupyter-widgets/controls",
            "_model_module_version": "1.5.0",
            "_model_name": "HTMLModel",
            "_view_count": null,
            "_view_module": "@jupyter-widgets/controls",
            "_view_module_version": "1.5.0",
            "_view_name": "HTMLView",
            "description": "",
            "description_tooltip": null,
            "layout": "IPY_MODEL_e7d3504b2bae4c5fb7e82287a36c0357",
            "placeholder": "​",
            "style": "IPY_MODEL_1f0f695ae9c74757be25b8d13b5a6e97",
            "value": ""
          }
        },
        "f01cd0a35c6e49658fc485a664e2d1cc": {
          "model_module": "@jupyter-widgets/controls",
          "model_name": "FloatProgressModel",
          "model_module_version": "1.5.0",
          "state": {
            "_dom_classes": [],
            "_model_module": "@jupyter-widgets/controls",
            "_model_module_version": "1.5.0",
            "_model_name": "FloatProgressModel",
            "_view_count": null,
            "_view_module": "@jupyter-widgets/controls",
            "_view_module_version": "1.5.0",
            "_view_name": "ProgressView",
            "bar_style": "success",
            "description": "",
            "description_tooltip": null,
            "layout": "IPY_MODEL_d5fe586eb06f492a8dafe6e5b1625297",
            "max": 63286381,
            "min": 0,
            "orientation": "horizontal",
            "style": "IPY_MODEL_1892984a081a4c3fb94d2c43b57e2946",
            "value": 63286381
          }
        },
        "a4ab89fd5ea44e208d9f0919f9c33034": {
          "model_module": "@jupyter-widgets/controls",
          "model_name": "HTMLModel",
          "model_module_version": "1.5.0",
          "state": {
            "_dom_classes": [],
            "_model_module": "@jupyter-widgets/controls",
            "_model_module_version": "1.5.0",
            "_model_name": "HTMLModel",
            "_view_count": null,
            "_view_module": "@jupyter-widgets/controls",
            "_view_module_version": "1.5.0",
            "_view_name": "HTMLView",
            "description": "",
            "description_tooltip": null,
            "layout": "IPY_MODEL_1a23c697ab9e47edbe06e75ceb15d2ca",
            "placeholder": "​",
            "style": "IPY_MODEL_7c1ab8aeb7db42b18ca0576d4767d166",
            "value": " 63287296/? [00:08&lt;00:00, 12011214.12it/s]"
          }
        },
        "8c6cb3e9c0414e2b8c8506433d19e619": {
          "model_module": "@jupyter-widgets/base",
          "model_name": "LayoutModel",
          "model_module_version": "1.2.0",
          "state": {
            "_model_module": "@jupyter-widgets/base",
            "_model_module_version": "1.2.0",
            "_model_name": "LayoutModel",
            "_view_count": null,
            "_view_module": "@jupyter-widgets/base",
            "_view_module_version": "1.2.0",
            "_view_name": "LayoutView",
            "align_content": null,
            "align_items": null,
            "align_self": null,
            "border": null,
            "bottom": null,
            "display": null,
            "flex": null,
            "flex_flow": null,
            "grid_area": null,
            "grid_auto_columns": null,
            "grid_auto_flow": null,
            "grid_auto_rows": null,
            "grid_column": null,
            "grid_gap": null,
            "grid_row": null,
            "grid_template_areas": null,
            "grid_template_columns": null,
            "grid_template_rows": null,
            "height": null,
            "justify_content": null,
            "justify_items": null,
            "left": null,
            "margin": null,
            "max_height": null,
            "max_width": null,
            "min_height": null,
            "min_width": null,
            "object_fit": null,
            "object_position": null,
            "order": null,
            "overflow": null,
            "overflow_x": null,
            "overflow_y": null,
            "padding": null,
            "right": null,
            "top": null,
            "visibility": null,
            "width": null
          }
        },
        "e7d3504b2bae4c5fb7e82287a36c0357": {
          "model_module": "@jupyter-widgets/base",
          "model_name": "LayoutModel",
          "model_module_version": "1.2.0",
          "state": {
            "_model_module": "@jupyter-widgets/base",
            "_model_module_version": "1.2.0",
            "_model_name": "LayoutModel",
            "_view_count": null,
            "_view_module": "@jupyter-widgets/base",
            "_view_module_version": "1.2.0",
            "_view_name": "LayoutView",
            "align_content": null,
            "align_items": null,
            "align_self": null,
            "border": null,
            "bottom": null,
            "display": null,
            "flex": null,
            "flex_flow": null,
            "grid_area": null,
            "grid_auto_columns": null,
            "grid_auto_flow": null,
            "grid_auto_rows": null,
            "grid_column": null,
            "grid_gap": null,
            "grid_row": null,
            "grid_template_areas": null,
            "grid_template_columns": null,
            "grid_template_rows": null,
            "height": null,
            "justify_content": null,
            "justify_items": null,
            "left": null,
            "margin": null,
            "max_height": null,
            "max_width": null,
            "min_height": null,
            "min_width": null,
            "object_fit": null,
            "object_position": null,
            "order": null,
            "overflow": null,
            "overflow_x": null,
            "overflow_y": null,
            "padding": null,
            "right": null,
            "top": null,
            "visibility": null,
            "width": null
          }
        },
        "1f0f695ae9c74757be25b8d13b5a6e97": {
          "model_module": "@jupyter-widgets/controls",
          "model_name": "DescriptionStyleModel",
          "model_module_version": "1.5.0",
          "state": {
            "_model_module": "@jupyter-widgets/controls",
            "_model_module_version": "1.5.0",
            "_model_name": "DescriptionStyleModel",
            "_view_count": null,
            "_view_module": "@jupyter-widgets/base",
            "_view_module_version": "1.2.0",
            "_view_name": "StyleView",
            "description_width": ""
          }
        },
        "d5fe586eb06f492a8dafe6e5b1625297": {
          "model_module": "@jupyter-widgets/base",
          "model_name": "LayoutModel",
          "model_module_version": "1.2.0",
          "state": {
            "_model_module": "@jupyter-widgets/base",
            "_model_module_version": "1.2.0",
            "_model_name": "LayoutModel",
            "_view_count": null,
            "_view_module": "@jupyter-widgets/base",
            "_view_module_version": "1.2.0",
            "_view_name": "LayoutView",
            "align_content": null,
            "align_items": null,
            "align_self": null,
            "border": null,
            "bottom": null,
            "display": null,
            "flex": null,
            "flex_flow": null,
            "grid_area": null,
            "grid_auto_columns": null,
            "grid_auto_flow": null,
            "grid_auto_rows": null,
            "grid_column": null,
            "grid_gap": null,
            "grid_row": null,
            "grid_template_areas": null,
            "grid_template_columns": null,
            "grid_template_rows": null,
            "height": null,
            "justify_content": null,
            "justify_items": null,
            "left": null,
            "margin": null,
            "max_height": null,
            "max_width": null,
            "min_height": null,
            "min_width": null,
            "object_fit": null,
            "object_position": null,
            "order": null,
            "overflow": null,
            "overflow_x": null,
            "overflow_y": null,
            "padding": null,
            "right": null,
            "top": null,
            "visibility": null,
            "width": null
          }
        },
        "1892984a081a4c3fb94d2c43b57e2946": {
          "model_module": "@jupyter-widgets/controls",
          "model_name": "ProgressStyleModel",
          "model_module_version": "1.5.0",
          "state": {
            "_model_module": "@jupyter-widgets/controls",
            "_model_module_version": "1.5.0",
            "_model_name": "ProgressStyleModel",
            "_view_count": null,
            "_view_module": "@jupyter-widgets/base",
            "_view_module_version": "1.2.0",
            "_view_name": "StyleView",
            "bar_color": null,
            "description_width": ""
          }
        },
        "1a23c697ab9e47edbe06e75ceb15d2ca": {
          "model_module": "@jupyter-widgets/base",
          "model_name": "LayoutModel",
          "model_module_version": "1.2.0",
          "state": {
            "_model_module": "@jupyter-widgets/base",
            "_model_module_version": "1.2.0",
            "_model_name": "LayoutModel",
            "_view_count": null,
            "_view_module": "@jupyter-widgets/base",
            "_view_module_version": "1.2.0",
            "_view_name": "LayoutView",
            "align_content": null,
            "align_items": null,
            "align_self": null,
            "border": null,
            "bottom": null,
            "display": null,
            "flex": null,
            "flex_flow": null,
            "grid_area": null,
            "grid_auto_columns": null,
            "grid_auto_flow": null,
            "grid_auto_rows": null,
            "grid_column": null,
            "grid_gap": null,
            "grid_row": null,
            "grid_template_areas": null,
            "grid_template_columns": null,
            "grid_template_rows": null,
            "height": null,
            "justify_content": null,
            "justify_items": null,
            "left": null,
            "margin": null,
            "max_height": null,
            "max_width": null,
            "min_height": null,
            "min_width": null,
            "object_fit": null,
            "object_position": null,
            "order": null,
            "overflow": null,
            "overflow_x": null,
            "overflow_y": null,
            "padding": null,
            "right": null,
            "top": null,
            "visibility": null,
            "width": null
          }
        },
        "7c1ab8aeb7db42b18ca0576d4767d166": {
          "model_module": "@jupyter-widgets/controls",
          "model_name": "DescriptionStyleModel",
          "model_module_version": "1.5.0",
          "state": {
            "_model_module": "@jupyter-widgets/controls",
            "_model_module_version": "1.5.0",
            "_model_name": "DescriptionStyleModel",
            "_view_count": null,
            "_view_module": "@jupyter-widgets/base",
            "_view_module_version": "1.2.0",
            "_view_name": "StyleView",
            "description_width": ""
          }
        }
      }
    },
    "accelerator": "GPU",
    "gpuClass": "standard"
  },
  "cells": [
    {
      "cell_type": "markdown",
      "metadata": {
        "id": "0eiwDT8qIh4X"
      },
      "source": [
        "# Installation\n",
        "\n",
        "Install all the dependencies to make the most out of docTR. The project provides two main [installation](https://mindee.github.io/doctr/latest/installing.html) streams: one for stable release (update once every 45 days on average), and developer mode."
      ]
    },
    {
      "cell_type": "markdown",
      "metadata": {
        "id": "Bh8uHvOVIvFW"
      },
      "source": [
        "## Latest stable release\n",
        "\n",
        "This will install the last stable release that was published by our teams on pypi. It is expected to provide a clean and non-buggy experience for all users."
      ]
    },
    {
      "cell_type": "code",
      "metadata": {
        "id": "43tpfKq1IxQg"
      },
      "source": [
        "# TensorFlow\n",
        "# !pip install python-doctr[tf]\n",
        "# PyTorch\n",
        "!pip install python-doctr[torch]"
      ],
      "execution_count": null,
      "outputs": []
    },
    {
      "cell_type": "markdown",
      "metadata": {
        "id": "zUbhZiRiIxbN"
      },
      "source": [
        "## From source\n",
        "\n",
        "Before being staged for a stable release, we constantly iterate on the community feedback to improve the library. Bug fixes and performance improvements are regularly pushed to the project Git repository. Using this installation method, you will access all the latest features that have not yet made their way to a pypi release!"
      ]
    },
    {
      "cell_type": "code",
      "metadata": {
        "id": "AJZgLM_CIzKf",
        "colab": {
          "base_uri": "https://localhost:8080/"
        },
        "outputId": "2086a1dc-5478-4d24-d45e-4019f2e503cf"
      },
      "source": [
        "# Do not run this one after you restart one time\n",
        "# Install the most up-to-date version from GitHub\n",
        "# TensorFlow\n",
        "# !pip install -e git+https://github.com/mindee/doctr.git#egg=python-doctr[tf]\n",
        "# PyTorch\n",
        "!pip install -e git+https://github.com/mindee/doctr.git#egg=python-doctr[torch]"
      ],
      "execution_count": null,
      "outputs": [
        {
          "output_type": "stream",
          "name": "stdout",
          "text": [
            "Looking in indexes: https://pypi.org/simple, https://us-python.pkg.dev/colab-wheels/public/simple/\n",
            "Obtaining python-doctr[torch] from git+https://github.com/mindee/doctr.git#egg=python-doctr[torch]\n",
            "  Updating ./src/python-doctr clone\n",
            "  Running command git fetch -q --tags\n",
            "  Running command git reset --hard -q acb9f64b11ebad8e53ac60737fcde8dbd3158a22\n",
            "  Installing build dependencies ... \u001b[?25l\u001b[?25hdone\n",
            "  Getting requirements to build wheel ... \u001b[?25l\u001b[?25hdone\n",
            "    Preparing wheel metadata ... \u001b[?25l\u001b[?25hdone\n",
            "\u001b[33mWARNING: python-doctr 0.6.1a0 does not provide the extra 'torch'\u001b[0m\n",
            "Installing collected packages: python-doctr\n",
            "  Attempting uninstall: python-doctr\n",
            "    Found existing installation: python-doctr 0.6.0\n",
            "    Uninstalling python-doctr-0.6.0:\n",
            "      Successfully uninstalled python-doctr-0.6.0\n",
            "  Running setup.py develop for python-doctr\n",
            "Successfully installed python-doctr\n"
          ]
        }
      ]
    },
    {
      "cell_type": "markdown",
      "metadata": {
        "id": "RvJ3PzAQI0zK"
      },
      "source": [
        "Now go to  `Runtime/Restart runtime` for your changes to take effect!"
      ]
    },
    {
      "cell_type": "markdown",
      "metadata": {
        "id": "r2mgRuCaJY4F"
      },
      "source": [
        "# Basic usage\n",
        "\n",
        "We're going to review the main features of docTR 🎁\n",
        "And for you to have a proper overview of its capabilities, we will need some free fonts for a proper output visualization:"
      ]
    },
    {
      "cell_type": "code",
      "metadata": {
        "id": "2Qhrp88TPDZi",
        "colab": {
          "base_uri": "https://localhost:8080/"
        },
        "outputId": "65afa475-4878-47bb-865e-f2211f15efb5"
      },
      "source": [
        "# Install some free fonts for result rendering\n",
        "!sudo apt-get install fonts-freefont-ttf -y"
      ],
      "execution_count": null,
      "outputs": [
        {
          "output_type": "stream",
          "name": "stdout",
          "text": [
            "Reading package lists... Done\n",
            "Building dependency tree       \n",
            "Reading state information... Done\n",
            "fonts-freefont-ttf is already the newest version (20120503-7).\n",
            "The following package was automatically installed and is no longer required:\n",
            "  libnvidia-common-460\n",
            "Use 'sudo apt autoremove' to remove it.\n",
            "0 upgraded, 0 newly installed, 0 to remove and 5 not upgraded.\n"
          ]
        }
      ]
    },
    {
      "cell_type": "markdown",
      "metadata": {
        "id": "Fe7KuocKSWX9"
      },
      "source": [
        "Let's take care of all the imports directly"
      ]
    },
    {
      "cell_type": "code",
      "metadata": {
        "id": "xSoeo0hRJbnU"
      },
      "source": [
        "%matplotlib inline\n",
        "import os\n",
        "\n",
        "# Let's pick the desired backend\n",
        "# os.environ['USE_TF'] = '1'\n",
        "os.environ['USE_TORCH'] = '1'\n",
        "\n",
        "import matplotlib.pyplot as plt\n",
        "\n",
        "from doctr.io import DocumentFile\n",
        "from doctr.models import ocr_predictor"
      ],
      "execution_count": null,
      "outputs": []
    },
    {
      "cell_type": "markdown",
      "metadata": {
        "id": "7wwEmHqZSaLF"
      },
      "source": [
        "For the next steps, we will need a proper PDF document that will be used to showcase the library features"
      ]
    },
    {
      "cell_type": "code",
      "metadata": {
        "id": "UIBwFsVuJocy",
        "colab": {
          "base_uri": "https://localhost:8080/"
        },
        "outputId": "b1ac30ae-f90d-44a2-8e19-373a1d45f9d5"
      },
      "source": [
        "# Download a sample\n",
        "!wget https://eforms.com/download/2019/01/Cash-Payment-Receipt-Template.pdf\n",
        "# Read the file\n",
        "doc = DocumentFile.from_pdf(\"Cash-Payment-Receipt-Template.pdf\")\n",
        "print(f\"Number of pages: {len(doc)}\")"
      ],
      "execution_count": null,
      "outputs": [
        {
          "output_type": "stream",
          "name": "stdout",
          "text": [
            "--2022-11-11 14:45:02--  https://eforms.com/download/2019/01/Cash-Payment-Receipt-Template.pdf\n",
            "Resolving eforms.com (eforms.com)... 52.206.2.160\n",
            "Connecting to eforms.com (eforms.com)|52.206.2.160|:443... connected.\n",
            "HTTP request sent, awaiting response... 200 OK\n",
            "Length: 16080 (16K) [application/pdf]\n",
            "Saving to: ‘Cash-Payment-Receipt-Template.pdf’\n",
            "\n",
            "Cash-Payment-Receip 100%[===================>]  15.70K  --.-KB/s    in 0s      \n",
            "\n",
            "2022-11-11 14:45:02 (203 MB/s) - ‘Cash-Payment-Receipt-Template.pdf’ saved [16080/16080]\n",
            "\n",
            "Number of pages: 1\n"
          ]
        }
      ]
    },
    {
      "cell_type": "markdown",
      "metadata": {
        "id": "cM6PPiWpSmb0"
      },
      "source": [
        "docTR is, under the hood, running Deep Learning models to perform the different tasks it supports. Those models were built and trained with very popular frameworks for maximum compatibility (you will be pleased to know that you can switch from [PyTorch](https://pytorch.org/) to [TensorFlow](https://www.tensorflow.org/) without noticing any difference for you). By default, our high-level API sets the best default values so that you get high performing models without having to know anything about it. All of this is wrapper in a `Predictor` object, which will take care of pre-processing, model inference and post-processing for you ⚡\n",
        "\n",
        "Let's instantiate one!"
      ]
    },
    {
      "cell_type": "code",
      "metadata": {
        "id": "WAoUcVQbKIfT",
        "colab": {
          "base_uri": "https://localhost:8080/",
          "height": 205,
          "referenced_widgets": [
            "38852a65bb1540dea214fd125ad56ab7",
            "e9ed3b55b7104f338a3fada750698f90",
            "45f45d03ccdc41a78d2cfdecf0bea48e",
            "aa452edf437d4dcf8f2b3dd3423ede05",
            "19913cc18a044b889c13c790b1f6fa8d",
            "ce0d3d11e0574834b337485e5fd43930",
            "3a91c5cd5fa9411d92b8549ef11cb399",
            "fd16291ce9244a2fbc43fb870cf1512f",
            "453e311aaf154665a57a022865852360",
            "6ffcde07c60644b68afa47d284ee1181",
            "53cfbed6159f4028b9011c4933a64fa5",
            "185ea7a7fac24274bc9ab90505dcd9c0",
            "7671d676bd164a3dacb908a227742bf9",
            "f01cd0a35c6e49658fc485a664e2d1cc",
            "a4ab89fd5ea44e208d9f0919f9c33034",
            "8c6cb3e9c0414e2b8c8506433d19e619",
            "e7d3504b2bae4c5fb7e82287a36c0357",
            "1f0f695ae9c74757be25b8d13b5a6e97",
            "d5fe586eb06f492a8dafe6e5b1625297",
            "1892984a081a4c3fb94d2c43b57e2946",
            "1a23c697ab9e47edbe06e75ceb15d2ca",
            "7c1ab8aeb7db42b18ca0576d4767d166"
          ]
        },
        "outputId": "e0387a16-272a-4422-858c-22fbea36dbd5"
      },
      "source": [
        "# Instantiate a pretrained model\n",
        "predictor = ocr_predictor(pretrained=True)"
      ],
      "execution_count": null,
      "outputs": [
        {
          "output_type": "stream",
          "name": "stderr",
          "text": [
            "/usr/local/lib/python3.7/dist-packages/torchvision/models/_utils.py:136: UserWarning: Using 'weights' as positional parameter(s) is deprecated since 0.13 and will be removed in 0.15. Please use keyword parameter(s) instead.\n",
            "  f\"Using {sequence_to_str(tuple(keyword_only_kwargs.keys()), separate_last='and ')} as positional \"\n",
            "/usr/local/lib/python3.7/dist-packages/torchvision/models/_utils.py:223: UserWarning: Arguments other than a weight enum or `None` for 'weights' are deprecated since 0.13 and will be removed in 0.15. The current behavior is equivalent to passing `weights=None`.\n",
            "  warnings.warn(msg)\n"
          ]
        },
        {
          "output_type": "stream",
          "name": "stdout",
          "text": [
            "Downloading https://doctr-static.mindee.com/models?id=v0.3.1/db_resnet50-ac60cadc.pt&src=0 to /root/.cache/doctr/models/db_resnet50-ac60cadc.pt\n"
          ]
        },
        {
          "output_type": "display_data",
          "data": {
            "text/plain": [
              "  0%|          | 0/101971449 [00:00<?, ?it/s]"
            ],
            "application/vnd.jupyter.widget-view+json": {
              "version_major": 2,
              "version_minor": 0,
              "model_id": "38852a65bb1540dea214fd125ad56ab7"
            }
          },
          "metadata": {}
        },
        {
          "output_type": "stream",
          "name": "stdout",
          "text": [
            "Downloading https://doctr-static.mindee.com/models?id=v0.3.1/crnn_vgg16_bn-9762b0b0.pt&src=0 to /root/.cache/doctr/models/crnn_vgg16_bn-9762b0b0.pt\n"
          ]
        },
        {
          "output_type": "display_data",
          "data": {
            "text/plain": [
              "  0%|          | 0/63286381 [00:00<?, ?it/s]"
            ],
            "application/vnd.jupyter.widget-view+json": {
              "version_major": 2,
              "version_minor": 0,
              "model_id": "185ea7a7fac24274bc9ab90505dcd9c0"
            }
          },
          "metadata": {}
        }
      ]
    },
    {
      "cell_type": "markdown",
      "metadata": {
        "id": "PKKYSs0ET0XQ"
      },
      "source": [
        "By default, PyTorch model provides a nice visual description of a model, which is handy when it comes to debugging or knowing what you just created. We also added a similar feature for TensorFlow backend so that you don't miss on this nice assistance.\n",
        "\n",
        "Let's dive into this model 🕵"
      ]
    },
    {
      "cell_type": "code",
      "metadata": {
        "id": "urR0KyUYOT-B"
      },
      "source": [
        "# Display the architecture\n",
        "# print(predictor)"
      ],
      "execution_count": null,
      "outputs": []
    },
    {
      "cell_type": "markdown",
      "metadata": {
        "id": "dlrtkNzTURAo"
      },
      "source": [
        "Here we are inspecting the most complex (and high-level) object of docTR API: an OCR predictor. Since docTR achieves Optical Character Recognition by first localizing textual elements (Text Detection), then extracting the corresponding text from each location (Text Recognition), the OCR Predictor wraps two sub-predictors: one for text detection, and the other for text recognition."
      ]
    },
    {
      "cell_type": "markdown",
      "metadata": {
        "id": "uyVfbzhUL-Rw"
      },
      "source": [
        "## Basic inference\n",
        "\n",
        "It looks quite complex, isn't it?\n",
        "Well that will not prevent you from easily get nice results. See for yourself:"
      ]
    },
    {
      "cell_type": "code",
      "metadata": {
        "id": "RLPsdCj3PWzI"
      },
      "source": [
        "# result = predictor(doc)"
      ],
      "execution_count": null,
      "outputs": []
    },
    {
      "cell_type": "markdown",
      "metadata": {
        "id": "eFAwQaKuPYXG"
      },
      "source": [
        "## Prediction visualization\n",
        "\n",
        "If you rightfully prefer to see the results with your eyes, docTR includes a few visualization features. We will first overlay our predictions on the original document:"
      ]
    },
    {
      "cell_type": "code",
      "metadata": {
        "id": "sOcqPNnPMAE7"
      },
      "source": [
        "# result.show(doc)"
      ],
      "execution_count": null,
      "outputs": []
    },
    {
      "cell_type": "markdown",
      "metadata": {
        "id": "EnJERph1VXgN"
      },
      "source": [
        "Looks accurate!\n",
        "But we can go further: if the extracted information is correctly structured, we should be able to recreate the page entirely. So let's do this 🎨"
      ]
    },
    {
      "cell_type": "code",
      "metadata": {
        "id": "QdoSNYzROeRv"
      },
      "source": [
        "# synthetic_pages = result.synthesize()\n",
        "# plt.imshow(synthetic_pages[0]); plt.axis('off'); plt.show()"
      ],
      "execution_count": null,
      "outputs": []
    },
    {
      "cell_type": "markdown",
      "metadata": {
        "id": "mEabainyPeV8"
      },
      "source": [
        "## Exporting results\n",
        "\n",
        "OK, so the predictions are relevant, but how would you integrate this into your own document processing pipeline? Perhaps you're not using Python at all?\n",
        "\n",
        "Well, if you happen to be using JSON or XML exports, they are already supported 🤗"
      ]
    },
    {
      "cell_type": "code",
      "metadata": {
        "id": "mhIolyjQOqLp",
        "colab": {
          "base_uri": "https://localhost:8080/"
        },
        "outputId": "99c6c878-90e8-4e2c-a025-d2410e4baf9c"
      },
      "source": [
        "# # JSON export\n",
        "# json_export = result.export()\n",
        "# print(json_export)"
      ],
      "execution_count": null,
      "outputs": [
        {
          "output_type": "stream",
          "name": "stdout",
          "text": [
            "{'pages': [{'page_idx': 0, 'dimensions': (1584, 1224), 'orientation': {'value': None, 'confidence': None}, 'language': {'value': None, 'confidence': None}, 'blocks': [{'geometry': ((0.314453125, 0.0634765625), (0.6875, 0.083984375)), 'lines': [{'geometry': ((0.314453125, 0.0634765625), (0.6875, 0.083984375)), 'words': [{'value': 'CASH', 'confidence': 0.9990693926811218, 'geometry': ((0.314453125, 0.064453125), (0.3984375, 0.0830078125))}, {'value': 'PAYMENT', 'confidence': 0.9999754428863525, 'geometry': ((0.40625, 0.0634765625), (0.5517578125, 0.083984375))}, {'value': 'RECEIPT', 'confidence': 0.9987125396728516, 'geometry': ((0.5595703125, 0.0634765625), (0.6875, 0.083984375))}]}], 'artefacts': []}, {'geometry': ((0.1162109375, 0.11328125), (0.2783203125, 0.3037109375)), 'lines': [{'geometry': ((0.1181640625, 0.11328125), (0.2783203125, 0.1328125)), 'words': [{'value': 'Company', 'confidence': 0.9992720484733582, 'geometry': ((0.1181640625, 0.1142578125), (0.2099609375, 0.1328125))}, {'value': 'Name:', 'confidence': 0.9572088718414307, 'geometry': ((0.2138671875, 0.11328125), (0.2783203125, 0.130859375))}]}, {'geometry': ((0.1162109375, 0.1318359375), (0.265625, 0.1494140625)), 'words': [{'value': 'Street', 'confidence': 0.9999924898147583, 'geometry': ((0.1162109375, 0.1318359375), (0.1767578125, 0.1494140625))}, {'value': 'Address:', 'confidence': 0.999671220779419, 'geometry': ((0.1787109375, 0.1318359375), (0.265625, 0.1494140625))}]}, {'geometry': ((0.1162109375, 0.150390625), (0.265625, 0.1728515625)), 'words': [{'value': 'City,', 'confidence': 0.7493035793304443, 'geometry': ((0.1162109375, 0.1513671875), (0.162109375, 0.1708984375))}, {'value': 'State,', 'confidence': 0.9998090863227844, 'geometry': ((0.1650390625, 0.1513671875), (0.22265625, 0.169921875))}, {'value': 'Zip:', 'confidence': 0.999970555305481, 'geometry': ((0.2236328125, 0.150390625), (0.265625, 0.1728515625))}]}, {'geometry': ((0.1171875, 0.169921875), (0.1865234375, 0.1875)), 'words': [{'value': 'Phone:', 'confidence': 0.9999185800552368, 'geometry': ((0.1171875, 0.169921875), (0.1865234375, 0.1875))}]}, {'geometry': ((0.1162109375, 0.1884765625), (0.162109375, 0.20703125)), 'words': [{'value': 'Fax:', 'confidence': 0.9996023774147034, 'geometry': ((0.1162109375, 0.1884765625), (0.162109375, 0.20703125))}]}, {'geometry': ((0.1162109375, 0.20703125), (0.177734375, 0.224609375)), 'words': [{'value': 'Email:', 'confidence': 0.9981847405433655, 'geometry': ((0.1162109375, 0.20703125), (0.177734375, 0.224609375))}]}, {'geometry': ((0.1171875, 0.2275390625), (0.201171875, 0.2421875)), 'words': [{'value': 'Website:', 'confidence': 0.9636074900627136, 'geometry': ((0.1171875, 0.2275390625), (0.201171875, 0.2421875))}]}, {'geometry': ((0.1162109375, 0.2861328125), (0.1708984375, 0.3037109375)), 'words': [{'value': 'Date:', 'confidence': 0.9999319314956665, 'geometry': ((0.1162109375, 0.2861328125), (0.1708984375, 0.3037109375))}]}], 'artefacts': []}, {'geometry': ((0.6357421875, 0.2861328125), (0.7333984375, 0.3056640625)), 'lines': [{'geometry': ((0.6357421875, 0.2861328125), (0.7333984375, 0.3056640625)), 'words': [{'value': 'Receipt', 'confidence': 0.9999529123306274, 'geometry': ((0.6357421875, 0.287109375), (0.708984375, 0.3056640625))}, {'value': '#:', 'confidence': 0.8617385625839233, 'geometry': ((0.7109375, 0.2861328125), (0.7333984375, 0.3046875))}]}], 'artefacts': []}, {'geometry': ((0.37109375, 0.3701171875), (0.6298828125, 0.3916015625)), 'lines': [{'geometry': ((0.37109375, 0.3701171875), (0.6298828125, 0.3916015625)), 'words': [{'value': 'Payment', 'confidence': 0.9980747699737549, 'geometry': ((0.37109375, 0.3701171875), (0.48046875, 0.3916015625))}, {'value': 'Information', 'confidence': 0.9716160893440247, 'geometry': ((0.4873046875, 0.3701171875), (0.6298828125, 0.3876953125))}]}], 'artefacts': []}, {'geometry': ((0.1162109375, 0.4140625), (0.275390625, 0.517578125)), 'lines': [{'geometry': ((0.1162109375, 0.4140625), (0.2001953125, 0.4375)), 'words': [{'value': 'Paid', 'confidence': 0.9929977655410767, 'geometry': ((0.1162109375, 0.4150390625), (0.1630859375, 0.43359375))}, {'value': 'By:', 'confidence': 0.9961645603179932, 'geometry': ((0.1630859375, 0.4140625), (0.2001953125, 0.4375))}]}, {'geometry': ((0.1171875, 0.4560546875), (0.2470703125, 0.474609375)), 'words': [{'value': 'Amount', 'confidence': 0.9993399977684021, 'geometry': ((0.1171875, 0.4580078125), (0.1923828125, 0.47265625))}, {'value': 'Paid:', 'confidence': 0.994378387928009, 'geometry': ((0.1953125, 0.4560546875), (0.2470703125, 0.474609375))}]}, {'geometry': ((0.1162109375, 0.4970703125), (0.275390625, 0.517578125)), 'words': [{'value': 'For', 'confidence': 0.9495216608047485, 'geometry': ((0.1162109375, 0.4970703125), (0.1533203125, 0.515625))}, {'value': 'Payment', 'confidence': 0.9995786547660828, 'geometry': ((0.15625, 0.4990234375), (0.2412109375, 0.517578125))}, {'value': 'Of:', 'confidence': 0.9991095662117004, 'geometry': ((0.244140625, 0.498046875), (0.275390625, 0.5146484375))}]}], 'artefacts': []}, {'geometry': ((0.576171875, 0.455078125), (0.671875, 0.4775390625)), 'lines': [{'geometry': ((0.576171875, 0.455078125), (0.671875, 0.4775390625)), 'words': [{'value': 'Dollars', 'confidence': 0.9854636788368225, 'geometry': ((0.576171875, 0.4580078125), (0.6435546875, 0.47265625))}, {'value': '($', 'confidence': 0.9968711733818054, 'geometry': ((0.646484375, 0.455078125), (0.671875, 0.4775390625))}]}], 'artefacts': []}, {'geometry': ((0.6015625, 0.5693359375), (0.74609375, 0.6533203125)), 'lines': [{'geometry': ((0.638671875, 0.5693359375), (0.74609375, 0.58984375)), 'words': [{'value': 'Subtotal:', 'confidence': 0.9963411688804626, 'geometry': ((0.638671875, 0.5703125), (0.724609375, 0.587890625))}, {'value': '$', 'confidence': 0.9993730187416077, 'geometry': ((0.7265625, 0.5693359375), (0.74609375, 0.58984375))}]}, {'geometry': ((0.6015625, 0.6015625), (0.7373046875, 0.6220703125)), 'words': [{'value': 'Tax', 'confidence': 0.9999874830245972, 'geometry': ((0.6015625, 0.6015625), (0.642578125, 0.6201171875))}, {'value': 'Rate', 'confidence': 0.9995567202568054, 'geometry': ((0.64453125, 0.6025390625), (0.69140625, 0.6181640625))}, {'value': '(%):', 'confidence': 0.9995135068893433, 'geometry': ((0.6953125, 0.6025390625), (0.7373046875, 0.6220703125))}]}, {'geometry': ((0.626953125, 0.6328125), (0.74609375, 0.6533203125)), 'words': [{'value': 'Total', 'confidence': 0.9985380172729492, 'geometry': ((0.626953125, 0.6328125), (0.677734375, 0.6513671875))}, {'value': 'Tax:', 'confidence': 0.9991111159324646, 'geometry': ((0.6796875, 0.6328125), (0.724609375, 0.6513671875))}, {'value': '$', 'confidence': 0.9986920952796936, 'geometry': ((0.7265625, 0.6328125), (0.74609375, 0.6533203125))}]}], 'artefacts': []}, {'geometry': ((0.5341796875, 0.6640625), (0.74609375, 0.748046875)), 'lines': [{'geometry': ((0.5439453125, 0.6640625), (0.7451171875, 0.6845703125)), 'words': [{'value': 'Total', 'confidence': 0.5600869655609131, 'geometry': ((0.5439453125, 0.6640625), (0.595703125, 0.6826171875))}, {'value': 'Amount', 'confidence': 0.9957303404808044, 'geometry': ((0.59765625, 0.666015625), (0.673828125, 0.6806640625))}, {'value': 'Due:', 'confidence': 0.999991774559021, 'geometry': ((0.677734375, 0.666015625), (0.724609375, 0.681640625))}, {'value': '$', 'confidence': 0.9983554482460022, 'geometry': ((0.7265625, 0.6640625), (0.7451171875, 0.6845703125))}]}, {'geometry': ((0.5947265625, 0.6953125), (0.74609375, 0.716796875)), 'words': [{'value': 'Amount', 'confidence': 0.9002764821052551, 'geometry': ((0.5947265625, 0.697265625), (0.669921875, 0.7119140625))}, {'value': 'Paid:', 'confidence': 0.9726784825325012, 'geometry': ((0.6748046875, 0.697265625), (0.7236328125, 0.712890625))}, {'value': '$', 'confidence': 0.9938628673553467, 'geometry': ((0.7265625, 0.6953125), (0.74609375, 0.716796875))}]}, {'geometry': ((0.5341796875, 0.7265625), (0.7451171875, 0.748046875)), 'words': [{'value': 'Remaining', 'confidence': 0.8993052840232849, 'geometry': ((0.5341796875, 0.7294921875), (0.634765625, 0.7470703125))}, {'value': 'Balance:', 'confidence': 0.9973211884498596, 'geometry': ((0.6396484375, 0.7294921875), (0.7236328125, 0.744140625))}, {'value': '$', 'confidence': 0.9964888095855713, 'geometry': ((0.7265625, 0.7265625), (0.7451171875, 0.748046875))}]}], 'artefacts': []}, {'geometry': ((0.1181640625, 0.798828125), (0.24609375, 0.822265625)), 'lines': [{'geometry': ((0.1181640625, 0.798828125), (0.24609375, 0.822265625)), 'words': [{'value': 'Received', 'confidence': 0.9991452693939209, 'geometry': ((0.1181640625, 0.8017578125), (0.2080078125, 0.81640625))}, {'value': 'By:', 'confidence': 0.9999109506607056, 'geometry': ((0.2099609375, 0.798828125), (0.24609375, 0.822265625))}]}], 'artefacts': []}, {'geometry': ((0.1181640625, 0.8427734375), (0.3330078125, 0.8603515625)), 'lines': [{'geometry': ((0.1181640625, 0.8427734375), (0.3330078125, 0.8603515625)), 'words': [{'value': 'Authorized', 'confidence': 0.9940978288650513, 'geometry': ((0.1181640625, 0.8427734375), (0.228515625, 0.857421875))}, {'value': 'Signature', 'confidence': 0.8821311593055725, 'geometry': ((0.234375, 0.8427734375), (0.3330078125, 0.8603515625))}]}], 'artefacts': []}, {'geometry': ((0.8271484375, 0.94140625), (0.9013671875, 0.9599609375)), 'lines': [{'geometry': ((0.8271484375, 0.94140625), (0.9013671875, 0.9599609375)), 'words': [{'value': 'Page', 'confidence': 0.9999324083328247, 'geometry': ((0.8271484375, 0.94140625), (0.8701171875, 0.9599609375))}, {'value': '1', 'confidence': 0.999995231628418, 'geometry': ((0.8701171875, 0.94140625), (0.8828125, 0.95703125))}, {'value': 'of', 'confidence': 0.9999593496322632, 'geometry': ((0.8828125, 0.9423828125), (0.9013671875, 0.9560546875))}]}], 'artefacts': []}]}]}\n"
          ]
        }
      ]
    },
    {
      "cell_type": "code",
      "metadata": {
        "id": "3RsuKIlYPnNf",
        "colab": {
          "base_uri": "https://localhost:8080/"
        },
        "outputId": "f51e1748-edfe-4987-d987-082a2ede2004"
      },
      "source": [
        "# XML export\n",
        "xml_output = result.export_as_xml()\n",
        "print(xml_output[0][0])"
      ],
      "execution_count": null,
      "outputs": [
        {
          "output_type": "stream",
          "name": "stdout",
          "text": [
            "b'<html xml:lang=\"en\" xmlns=\"http://www.w3.org/1999/xhtml\"><head><title>docTR - XML export (hOCR)</title><meta content=\"text/html; charset=utf-8\" http-equiv=\"Content-Type\" /><meta content=\"python-doctr 0.4.1a0\" name=\"ocr-system\" /><meta content=\"ocr_page ocr_carea ocr_par ocr_line ocrx_word\" name=\"ocr-capabilities\" /></head><body><div class=\"ocr_page\" id=\"page_1\" title=\"image; bbox 0 0 1224 1584; ppageno 0\" /><div class=\"ocr_carea\" id=\"block_1\" title=\"bbox 385 101                     842 133\"><p class=\"ocr_par\" id=\"par_1\" title=\"bbox 385 101                     842 133\"><span class=\"ocr_line\" id=\"line_1\" title=\"bbox 385 101                         842 133;                         baseline 0 0; x_size 0; x_descenders 0; x_ascenders 0\"><span class=\"ocrx_word\" id=\"word_1\" title=\"bbox 385 102                             488 131;                             x_wconf 100\">CASH</span><span class=\"ocrx_word\" id=\"word_2\" title=\"bbox 497 101                             675 133;                             x_wconf 100\">PAYMENT</span><span class=\"ocrx_word\" id=\"word_3\" title=\"bbox 685 101                             842 133;                             x_wconf 100\">RECEIPT</span></span></p></div><div class=\"ocr_carea\" id=\"block_2\" title=\"bbox 142 179                     341 481\"><p class=\"ocr_par\" id=\"par_2\" title=\"bbox 142 179                     341 481\"><span class=\"ocr_line\" id=\"line_2\" title=\"bbox 145 179                         341 210;                         baseline 0 0; x_size 0; x_descenders 0; x_ascenders 0\"><span class=\"ocrx_word\" id=\"word_4\" title=\"bbox 145 181                             257 210;                             x_wconf 100\">Company</span><span class=\"ocrx_word\" id=\"word_5\" title=\"bbox 262 179                             341 207;                             x_wconf 96\">Name:</span></span><span class=\"ocr_line\" id=\"line_3\" title=\"bbox 142 209                         325 237;                         baseline 0 0; x_size 0; x_descenders 0; x_ascenders 0\"><span class=\"ocrx_word\" id=\"word_6\" title=\"bbox 142 209                             216 237;                             x_wconf 100\">Street</span><span class=\"ocrx_word\" id=\"word_7\" title=\"bbox 219 209                             325 237;                             x_wconf 100\">Address:</span></span><span class=\"ocr_line\" id=\"line_4\" title=\"bbox 142 238                         325 274;                         baseline 0 0; x_size 0; x_descenders 0; x_ascenders 0\"><span class=\"ocrx_word\" id=\"word_8\" title=\"bbox 142 240                             198 271;                             x_wconf 75\">City,</span><span class=\"ocrx_word\" id=\"word_9\" title=\"bbox 202 240                             273 269;                             x_wconf 100\">State,</span><span class=\"ocrx_word\" id=\"word_10\" title=\"bbox 274 238                             325 274;                             x_wconf 100\">Zip:</span></span><span class=\"ocr_line\" id=\"line_5\" title=\"bbox 143 269                         228 297;                         baseline 0 0; x_size 0; x_descenders 0; x_ascenders 0\"><span class=\"ocrx_word\" id=\"word_11\" title=\"bbox 143 269                             228 297;                             x_wconf 100\">Phone:</span></span><span class=\"ocr_line\" id=\"line_6\" title=\"bbox 142 299                         198 328;                         baseline 0 0; x_size 0; x_descenders 0; x_ascenders 0\"><span class=\"ocrx_word\" id=\"word_12\" title=\"bbox 142 299                             198 328;                             x_wconf 100\">Fax:</span></span><span class=\"ocr_line\" id=\"line_7\" title=\"bbox 142 328                         218 356;                         baseline 0 0; x_size 0; x_descenders 0; x_ascenders 0\"><span class=\"ocrx_word\" id=\"word_13\" title=\"bbox 142 328                             218 356;                             x_wconf 100\">Email:</span></span><span class=\"ocr_line\" id=\"line_8\" title=\"bbox 143 360                         246 384;                         baseline 0 0; x_size 0; x_descenders 0; x_ascenders 0\"><span class=\"ocrx_word\" id=\"word_14\" title=\"bbox 143 360                             246 384;                             x_wconf 96\">Website:</span></span><span class=\"ocr_line\" id=\"line_9\" title=\"bbox 142 453                         209 481;                         baseline 0 0; x_size 0; x_descenders 0; x_ascenders 0\"><span class=\"ocrx_word\" id=\"word_15\" title=\"bbox 142 453                             209 481;                             x_wconf 100\">Date:</span></span></p></div><div class=\"ocr_carea\" id=\"block_3\" title=\"bbox 778 453                     898 484\"><p class=\"ocr_par\" id=\"par_3\" title=\"bbox 778 453                     898 484\"><span class=\"ocr_line\" id=\"line_10\" title=\"bbox 778 453                         898 484;                         baseline 0 0; x_size 0; x_descenders 0; x_ascenders 0\"><span class=\"ocrx_word\" id=\"word_16\" title=\"bbox 778 455                             868 484;                             x_wconf 100\">Receipt</span><span class=\"ocrx_word\" id=\"word_17\" title=\"bbox 870 453                             898 483;                             x_wconf 86\">#:</span></span></p></div><div class=\"ocr_carea\" id=\"block_4\" title=\"bbox 454 586                     771 620\"><p class=\"ocr_par\" id=\"par_4\" title=\"bbox 454 586                     771 620\"><span class=\"ocr_line\" id=\"line_11\" title=\"bbox 454 586                         771 620;                         baseline 0 0; x_size 0; x_descenders 0; x_ascenders 0\"><span class=\"ocrx_word\" id=\"word_18\" title=\"bbox 454 586                             588 620;                             x_wconf 100\">Payment</span><span class=\"ocrx_word\" id=\"word_19\" title=\"bbox 596 586                             771 614;                             x_wconf 97\">Information</span></span></p></div><div class=\"ocr_carea\" id=\"block_5\" title=\"bbox 142 656                     337 820\"><p class=\"ocr_par\" id=\"par_5\" title=\"bbox 142 656                     337 820\"><span class=\"ocr_line\" id=\"line_12\" title=\"bbox 142 656                         245 693;                         baseline 0 0; x_size 0; x_descenders 0; x_ascenders 0\"><span class=\"ocrx_word\" id=\"word_20\" title=\"bbox 142 657                             200 687;                             x_wconf 99\">Paid</span><span class=\"ocrx_word\" id=\"word_21\" title=\"bbox 200 656                             245 693;                             x_wconf 100\">By:</span></span><span class=\"ocr_line\" id=\"line_13\" title=\"bbox 143 722                         302 752;                         baseline 0 0; x_size 0; x_descenders 0; x_ascenders 0\"><span class=\"ocrx_word\" id=\"word_22\" title=\"bbox 143 725                             235 749;                             x_wconf 100\">Amount</span><span class=\"ocrx_word\" id=\"word_23\" title=\"bbox 239 722                             302 752;                             x_wconf 99\">Paid:</span></span><span class=\"ocr_line\" id=\"line_14\" title=\"bbox 142 787                         337 820;                         baseline 0 0; x_size 0; x_descenders 0; x_ascenders 0\"><span class=\"ocrx_word\" id=\"word_24\" title=\"bbox 142 787                             188 817;                             x_wconf 95\">For</span><span class=\"ocrx_word\" id=\"word_25\" title=\"bbox 191 790                             295 820;                             x_wconf 100\">Payment</span><span class=\"ocrx_word\" id=\"word_26\" title=\"bbox 299 789                             337 815;                             x_wconf 100\">Of:</span></span></p></div><div class=\"ocr_carea\" id=\"block_6\" title=\"bbox 705 721                     822 756\"><p class=\"ocr_par\" id=\"par_6\" title=\"bbox 705 721                     822 756\"><span class=\"ocr_line\" id=\"line_15\" title=\"bbox 705 721                         822 756;                         baseline 0 0; x_size 0; x_descenders 0; x_ascenders 0\"><span class=\"ocrx_word\" id=\"word_27\" title=\"bbox 705 725                             788 749;                             x_wconf 99\">Dollars</span><span class=\"ocrx_word\" id=\"word_28\" title=\"bbox 791 721                             822 756;                             x_wconf 100\">($</span></span></p></div><div class=\"ocr_carea\" id=\"block_7\" title=\"bbox 736 902                     913 1035\"><p class=\"ocr_par\" id=\"par_7\" title=\"bbox 736 902                     913 1035\"><span class=\"ocr_line\" id=\"line_16\" title=\"bbox 782 902                         913 934;                         baseline 0 0; x_size 0; x_descenders 0; x_ascenders 0\"><span class=\"ocrx_word\" id=\"word_29\" title=\"bbox 782 903                             887 931;                             x_wconf 100\">Subtotal:</span><span class=\"ocrx_word\" id=\"word_30\" title=\"bbox 889 902                             913 934;                             x_wconf 100\">$</span></span><span class=\"ocr_line\" id=\"line_17\" title=\"bbox 736 953                         902 985;                         baseline 0 0; x_size 0; x_descenders 0; x_ascenders 0\"><span class=\"ocrx_word\" id=\"word_31\" title=\"bbox 736 953                             787 982;                             x_wconf 100\">Tax</span><span class=\"ocrx_word\" id=\"word_32\" title=\"bbox 789 954                             846 979;                             x_wconf 100\">Rate</span><span class=\"ocrx_word\" id=\"word_33\" title=\"bbox 851 954                             902 985;                             x_wconf 100\">(%):</span></span><span class=\"ocr_line\" id=\"line_18\" title=\"bbox 767 1002                         913 1035;                         baseline 0 0; x_size 0; x_descenders 0; x_ascenders 0\"><span class=\"ocrx_word\" id=\"word_34\" title=\"bbox 767 1002                             830 1032;                             x_wconf 100\">Total</span><span class=\"ocrx_word\" id=\"word_35\" title=\"bbox 832 1002                             887 1032;                             x_wconf 100\">Tax:</span><span class=\"ocrx_word\" id=\"word_36\" title=\"bbox 889 1002                             913 1035;                             x_wconf 100\">$</span></span></p></div><div class=\"ocr_carea\" id=\"block_8\" title=\"bbox 654 1052                     913 1185\"><p class=\"ocr_par\" id=\"par_8\" title=\"bbox 654 1052                     913 1185\"><span class=\"ocr_line\" id=\"line_19\" title=\"bbox 666 1052                         912 1084;                         baseline 0 0; x_size 0; x_descenders 0; x_ascenders 0\"><span class=\"ocrx_word\" id=\"word_37\" title=\"bbox 666 1052                             729 1081;                             x_wconf 56\">Total</span><span class=\"ocrx_word\" id=\"word_38\" title=\"bbox 732 1055                             825 1078;                             x_wconf 100\">Amount</span><span class=\"ocrx_word\" id=\"word_39\" title=\"bbox 830 1055                             887 1080;                             x_wconf 100\">Due:</span><span class=\"ocrx_word\" id=\"word_40\" title=\"bbox 889 1052                             912 1084;                             x_wconf 100\">$</span></span><span class=\"ocr_line\" id=\"line_20\" title=\"bbox 728 1101                         913 1135;                         baseline 0 0; x_size 0; x_descenders 0; x_ascenders 0\"><span class=\"ocrx_word\" id=\"word_41\" title=\"bbox 728 1104                             820 1128;                             x_wconf 90\">Amount</span><span class=\"ocrx_word\" id=\"word_42\" title=\"bbox 826 1104                             886 1129;                             x_wconf 97\">Paid:</span><span class=\"ocrx_word\" id=\"word_43\" title=\"bbox 889 1101                             913 1135;                             x_wconf 99\">$</span></span><span class=\"ocr_line\" id=\"line_21\" title=\"bbox 654 1151                         912 1185;                         baseline 0 0; x_size 0; x_descenders 0; x_ascenders 0\"><span class=\"ocrx_word\" id=\"word_44\" title=\"bbox 654 1156                             777 1183;                             x_wconf 90\">Remaining</span><span class=\"ocrx_word\" id=\"word_45\" title=\"bbox 783 1156                             886 1179;                             x_wconf 100\">Balance:</span><span class=\"ocrx_word\" id=\"word_46\" title=\"bbox 889 1151                             912 1185;                             x_wconf 100\">$</span></span></p></div><div class=\"ocr_carea\" id=\"block_9\" title=\"bbox 145 1265                     301 1302\"><p class=\"ocr_par\" id=\"par_9\" title=\"bbox 145 1265                     301 1302\"><span class=\"ocr_line\" id=\"line_22\" title=\"bbox 145 1265                         301 1302;                         baseline 0 0; x_size 0; x_descenders 0; x_ascenders 0\"><span class=\"ocrx_word\" id=\"word_47\" title=\"bbox 145 1270                             255 1293;                             x_wconf 100\">Received</span><span class=\"ocrx_word\" id=\"word_48\" title=\"bbox 257 1265                             301 1302;                             x_wconf 100\">By:</span></span></p></div><div class=\"ocr_carea\" id=\"block_10\" title=\"bbox 145 1335                     408 1363\"><p class=\"ocr_par\" id=\"par_10\" title=\"bbox 145 1335                     408 1363\"><span class=\"ocr_line\" id=\"line_23\" title=\"bbox 145 1335                         408 1363;                         baseline 0 0; x_size 0; x_descenders 0; x_ascenders 0\"><span class=\"ocrx_word\" id=\"word_49\" title=\"bbox 145 1335                             280 1358;                             x_wconf 99\">Authorized</span><span class=\"ocrx_word\" id=\"word_50\" title=\"bbox 287 1335                             408 1363;                             x_wconf 88\">Signature</span></span></p></div><div class=\"ocr_carea\" id=\"block_11\" title=\"bbox 1012 1491                     1103 1521\"><p class=\"ocr_par\" id=\"par_11\" title=\"bbox 1012 1491                     1103 1521\"><span class=\"ocr_line\" id=\"line_24\" title=\"bbox 1012 1491                         1103 1521;                         baseline 0 0; x_size 0; x_descenders 0; x_ascenders 0\"><span class=\"ocrx_word\" id=\"word_51\" title=\"bbox 1012 1491                             1065 1521;                             x_wconf 100\">Page</span><span class=\"ocrx_word\" id=\"word_52\" title=\"bbox 1065 1491                             1081 1516;                             x_wconf 100\">1</span><span class=\"ocrx_word\" id=\"word_53\" title=\"bbox 1081 1493                             1103 1514;                             x_wconf 100\">of</span></span></p></div></body></html>'\n"
          ]
        }
      ]
    },
    {
      "cell_type": "code",
      "source": [
        "model = ocr_predictor(reco_arch = \"crnn_vgg16_bn\", pretrained=True)\n",
        "model.reco_predictor.model = model.reco_predictor.model.eval()"
      ],
      "metadata": {
        "id": "0-iFNryoidLH",
        "colab": {
          "base_uri": "https://localhost:8080/"
        },
        "outputId": "b39d175d-0970-4e18-e164-90efd3b76cb3"
      },
      "execution_count": null,
      "outputs": [
        {
          "output_type": "stream",
          "name": "stderr",
          "text": [
            "/usr/local/lib/python3.7/dist-packages/torchvision/models/_utils.py:136: UserWarning: Using 'weights' as positional parameter(s) is deprecated since 0.13 and may be removed in the future. Please use keyword parameter(s) instead.\n",
            "  f\"Using {sequence_to_str(tuple(keyword_only_kwargs.keys()), separate_last='and ')} as positional \"\n",
            "/usr/local/lib/python3.7/dist-packages/torchvision/models/_utils.py:223: UserWarning: Arguments other than a weight enum or `None` for 'weights' are deprecated since 0.13 and may be removed in the future. The current behavior is equivalent to passing `weights=None`.\n",
            "  warnings.warn(msg)\n"
          ]
        }
      ]
    },
    {
      "cell_type": "code",
      "source": [
        "# !pip install onnxoptimizer\n",
        "# !pip install onnxruntime\n",
        "# !pip install onnx\n",
        "# !pip uninstall pillow\n",
        "# !pip install \"pillow<7\"\n",
        "# !pip install tf2onnx\n",
        "# !pip install tensorflow-addons\n",
        "# !pip install onnxoptimizer\n",
        "# !pip install onnxruntime"
      ],
      "metadata": {
        "id": "oGKj54g2ls4e"
      },
      "execution_count": null,
      "outputs": []
    },
    {
      "cell_type": "code",
      "source": [
        "import time\n",
        "\n",
        "import numpy as np\n",
        "import torch.onnx\n",
        "import torch\n",
        "from torch.cuda.amp import autocast\n",
        "from doctr.models import ocr_predictor\n",
        "import onnx\n",
        "import onnxoptimizer\n",
        "import onnxruntime"
      ],
      "metadata": {
        "id": "94xG2sKtir4v"
      },
      "execution_count": null,
      "outputs": []
    },
    {
      "cell_type": "code",
      "source": [
        "input = torch.randn(1, 3, 32, 128)\n",
        "input2 = torch.randn(49, 3, 32, 128)"
      ],
      "metadata": {
        "id": "jgNDMMRpilTU"
      },
      "execution_count": null,
      "outputs": []
    },
    {
      "cell_type": "code",
      "source": [
        "input = input.type(torch.FloatTensor).to(\"cuda\")\n",
        "model = model.type(torch.FloatTensor).to(\"cuda\")"
      ],
      "metadata": {
        "id": "nGZ9de5jjjaH"
      },
      "execution_count": null,
      "outputs": []
    },
    {
      "cell_type": "code",
      "source": [
        "start = time.time()\n",
        "valid_pred = model.reco_predictor.model(input.to(\"cuda\"))\n",
        "print(\"fp32 first pred time single sample\", time.time() - start)\n",
        "start = time.time()\n",
        "for i in range(100):\n",
        "    pred = model.reco_predictor.model(input.cuda())\n",
        "print(\"fp32 gpu pytorch time single sample\", time.time() - start)"
      ],
      "metadata": {
        "id": "z64mP4kwinoY",
        "outputId": "98f2836c-e463-46ae-94e6-4127c60806fe",
        "colab": {
          "base_uri": "https://localhost:8080/"
        }
      },
      "execution_count": null,
      "outputs": [
        {
          "output_type": "stream",
          "name": "stdout",
          "text": [
            "fp32 first pred time single sample 0.7706351280212402\n",
            "fp32 gpu pytorch time single sample 0.4912567138671875\n"
          ]
        }
      ]
    },
    {
      "cell_type": "code",
      "source": [
        "start = time.time()\n",
        "for i in range(100):\n",
        "    pred = model.reco_predictor.model(input2.cuda())\n",
        "print(\"fp32 gpu pytorch time big batch\", time.time() - start)"
      ],
      "metadata": {
        "id": "0yMmHn4bi2Kv",
        "colab": {
          "base_uri": "https://localhost:8080/"
        },
        "outputId": "3a630f87-3bf3-4d57-b9c5-1f91efb1890a"
      },
      "execution_count": null,
      "outputs": [
        {
          "output_type": "stream",
          "name": "stdout",
          "text": [
            "fp32 gpu pytorch time big batch 3.6229426860809326\n"
          ]
        }
      ]
    },
    {
      "cell_type": "code",
      "source": [
        "#half precision\n",
        "model.reco_predictor.model = model.reco_predictor.model\n",
        "input = input\n",
        "input2 = input2\n",
        "start = time.time()\n",
        "with autocast():\n",
        "    pred = model.reco_predictor.model(input.to(\"cuda\"))\n",
        "print(\"fp16 first pred time single sample\", time.time() - start)\n",
        "start = time.time()\n",
        "with autocast():\n",
        "    for i in range(100):\n",
        "        pred = model.reco_predictor.model(input.cuda())\n",
        "print(\"fp16 gpu pytorch time single sample\", time.time() - start)"
      ],
      "metadata": {
        "colab": {
          "base_uri": "https://localhost:8080/"
        },
        "id": "WllgIY7WlT2B",
        "outputId": "21058c20-63ad-4c3d-b7b9-a767afbd5aa9"
      },
      "execution_count": null,
      "outputs": [
        {
          "output_type": "stream",
          "name": "stdout",
          "text": [
            "fp16 first pred time single sample 0.02126455307006836\n",
            "fp16 gpu pytorch time single sample 0.515648603439331\n"
          ]
        }
      ]
    },
    {
      "cell_type": "code",
      "source": [
        "# Check cuda version\n",
        "!nvcc --version"
      ],
      "metadata": {
        "colab": {
          "base_uri": "https://localhost:8080/"
        },
        "id": "5KwDmMK_hOcb",
        "outputId": "db5b4ae9-9607-48ee-e55d-7efcd056c1ce"
      },
      "execution_count": null,
      "outputs": [
        {
          "output_type": "stream",
          "name": "stdout",
          "text": [
            "nvcc: NVIDIA (R) Cuda compiler driver\n",
            "Copyright (c) 2005-2021 NVIDIA Corporation\n",
            "Built on Sun_Feb_14_21:12:58_PST_2021\n",
            "Cuda compilation tools, release 11.2, V11.2.152\n",
            "Build cuda_11.2.r11.2/compiler.29618528_0\n"
          ]
        }
      ]
    },
    {
      "cell_type": "code",
      "source": [
        "# !pip3 install --pre torch torchvision torchaudio --extra-index-url https://download.pytorch.org/whl/nightly/cu112\n",
        "!pip3 install numpy --pre torch[dynamo] --force-reinstall --extra-index-url https://download.pytorch.org/whl/nightly/cu117"
      ],
      "metadata": {
        "id": "v6S2HvVnhOMm"
      },
      "execution_count": null,
      "outputs": []
    },
    {
      "cell_type": "code",
      "source": [
        "!pip install torch -f https://download.pytorch.org/whl/nightly/{accelerator}/torch_nightly.html\n",
        "!pip install --pre torch torchvision -f https://download.pytorch.org/whl/nightly/cu102/torch_nightly.html -U"
      ],
      "metadata": {
        "colab": {
          "base_uri": "https://localhost:8080/"
        },
        "id": "HH0xfhCWYHe0",
        "outputId": "bb0bbb19-43af-41da-9802-dab36b4bbc14"
      },
      "execution_count": null,
      "outputs": [
        {
          "output_type": "stream",
          "name": "stdout",
          "text": [
            "Looking in indexes: https://pypi.org/simple, https://us-python.pkg.dev/colab-wheels/public/simple/\n",
            "Looking in links: https://download.pytorch.org/whl/nightly/{accelerator}/torch_nightly.html\n",
            "Requirement already satisfied: torch in /usr/local/lib/python3.7/dist-packages (1.14.0.dev20221111+cu117)\n",
            "Requirement already satisfied: networkx in /usr/local/lib/python3.7/dist-packages (from torch) (2.6.3)\n",
            "Requirement already satisfied: sympy in /usr/local/lib/python3.7/dist-packages (from torch) (1.10.1)\n",
            "Requirement already satisfied: typing-extensions in /usr/local/lib/python3.7/dist-packages (from torch) (4.4.0)\n",
            "Requirement already satisfied: mpmath>=0.19 in /usr/local/lib/python3.7/dist-packages (from sympy->torch) (1.2.1)\n",
            "Looking in indexes: https://pypi.org/simple, https://us-python.pkg.dev/colab-wheels/public/simple/\n",
            "Looking in links: https://download.pytorch.org/whl/nightly/cu102/torch_nightly.html\n",
            "Requirement already satisfied: torch in /usr/local/lib/python3.7/dist-packages (1.14.0.dev20221111+cu117)\n",
            "Requirement already satisfied: torchvision in /usr/local/lib/python3.7/dist-packages (0.13.1+cu113)\n",
            "Collecting torchvision\n",
            "  Downloading torchvision-0.14.0-cp37-cp37m-manylinux1_x86_64.whl (24.3 MB)\n",
            "\u001b[K     |████████████████████████████████| 24.3 MB 1.2 MB/s \n",
            "\u001b[?25hRequirement already satisfied: networkx in /usr/local/lib/python3.7/dist-packages (from torch) (2.6.3)\n",
            "Requirement already satisfied: typing-extensions in /usr/local/lib/python3.7/dist-packages (from torch) (4.4.0)\n",
            "Requirement already satisfied: sympy in /usr/local/lib/python3.7/dist-packages (from torch) (1.10.1)\n",
            "Requirement already satisfied: numpy in /usr/local/lib/python3.7/dist-packages (from torchvision) (1.21.6)\n",
            "Collecting torch\n",
            "  Downloading torch-1.13.0-cp37-cp37m-manylinux1_x86_64.whl (890.2 MB)\n",
            "\u001b[K     |██████████████████████████████  | 834.1 MB 1.2 MB/s eta 0:00:48tcmalloc: large alloc 1147494400 bytes == 0x233e000 @  0x7f251152e615 0x58ead6 0x4f355e 0x4d222f 0x51041f 0x5b4ee6 0x58ff2e 0x510325 0x5b4ee6 0x58ff2e 0x50d482 0x4d00fb 0x50cb8d 0x4d00fb 0x50cb8d 0x4d00fb 0x50cb8d 0x4bac0a 0x538a76 0x590ae5 0x510280 0x5b4ee6 0x58ff2e 0x50d482 0x5b4ee6 0x58ff2e 0x50c4fc 0x58fd37 0x50ca37 0x5b4ee6 0x58ff2e\n",
            "\u001b[K     |████████████████████████████████| 890.2 MB 6.5 kB/s \n",
            "\u001b[?25hRequirement already satisfied: requests in /usr/local/lib/python3.7/dist-packages (from torchvision) (2.23.0)\n",
            "Requirement already satisfied: pillow!=8.3.*,>=5.3.0 in /usr/local/lib/python3.7/dist-packages (from torchvision) (7.1.2)\n",
            "Collecting nvidia-cublas-cu11==11.10.3.66\n",
            "  Downloading nvidia_cublas_cu11-11.10.3.66-py3-none-manylinux1_x86_64.whl (317.1 MB)\n",
            "\u001b[K     |████████████████████████████████| 317.1 MB 31 kB/s \n",
            "\u001b[?25hCollecting nvidia-cuda-nvrtc-cu11==11.7.99\n",
            "  Downloading nvidia_cuda_nvrtc_cu11-11.7.99-2-py3-none-manylinux1_x86_64.whl (21.0 MB)\n",
            "\u001b[K     |████████████████████████████████| 21.0 MB 1.2 MB/s \n",
            "\u001b[?25hCollecting nvidia-cudnn-cu11==8.5.0.96\n",
            "  Downloading nvidia_cudnn_cu11-8.5.0.96-2-py3-none-manylinux1_x86_64.whl (557.1 MB)\n",
            "\u001b[K     |████████████████████████████████| 557.1 MB 11 kB/s \n",
            "\u001b[?25hCollecting nvidia-cuda-runtime-cu11==11.7.99\n",
            "  Downloading nvidia_cuda_runtime_cu11-11.7.99-py3-none-manylinux1_x86_64.whl (849 kB)\n",
            "\u001b[K     |████████████████████████████████| 849 kB 51.1 MB/s \n",
            "\u001b[?25hRequirement already satisfied: setuptools in /usr/local/lib/python3.7/dist-packages (from nvidia-cublas-cu11==11.10.3.66->torch) (57.4.0)\n",
            "Requirement already satisfied: wheel in /usr/local/lib/python3.7/dist-packages (from nvidia-cublas-cu11==11.10.3.66->torch) (0.38.3)\n",
            "Requirement already satisfied: certifi>=2017.4.17 in /usr/local/lib/python3.7/dist-packages (from requests->torchvision) (2022.9.24)\n",
            "Requirement already satisfied: chardet<4,>=3.0.2 in /usr/local/lib/python3.7/dist-packages (from requests->torchvision) (3.0.4)\n",
            "Requirement already satisfied: idna<3,>=2.5 in /usr/local/lib/python3.7/dist-packages (from requests->torchvision) (2.10)\n",
            "Requirement already satisfied: urllib3!=1.25.0,!=1.25.1,<1.26,>=1.21.1 in /usr/local/lib/python3.7/dist-packages (from requests->torchvision) (1.24.3)\n",
            "Requirement already satisfied: mpmath>=0.19 in /usr/local/lib/python3.7/dist-packages (from sympy->torch) (1.2.1)\n",
            "Installing collected packages: nvidia-cublas-cu11, nvidia-cudnn-cu11, nvidia-cuda-runtime-cu11, nvidia-cuda-nvrtc-cu11, torch, torchvision\n",
            "  Attempting uninstall: torch\n",
            "    Found existing installation: torch 1.14.0.dev20221111+cu117\n",
            "    Uninstalling torch-1.14.0.dev20221111+cu117:\n",
            "      Successfully uninstalled torch-1.14.0.dev20221111+cu117\n",
            "  Attempting uninstall: torchvision\n",
            "    Found existing installation: torchvision 0.13.1+cu113\n",
            "    Uninstalling torchvision-0.13.1+cu113:\n",
            "      Successfully uninstalled torchvision-0.13.1+cu113\n",
            "\u001b[31mERROR: pip's dependency resolver does not currently take into account all the packages that are installed. This behaviour is the source of the following dependency conflicts.\n",
            "torchtext 0.13.1 requires torch==1.12.1, but you have torch 1.13.0 which is incompatible.\n",
            "torchaudio 0.12.1+cu113 requires torch==1.12.1, but you have torch 1.13.0 which is incompatible.\u001b[0m\n",
            "Successfully installed nvidia-cublas-cu11-11.10.3.66 nvidia-cuda-nvrtc-cu11-11.7.99 nvidia-cuda-runtime-cu11-11.7.99 nvidia-cudnn-cu11-8.5.0.96 torch-1.13.0 torchvision-0.14.0\n"
          ]
        }
      ]
    },
    {
      "cell_type": "code",
      "source": [
        "!git clone https://github.com/pytorch/functorch\n",
        "!pip install functorch"
      ],
      "metadata": {
        "colab": {
          "base_uri": "https://localhost:8080/"
        },
        "id": "9lGJUJBPaRRc",
        "outputId": "1a500bd6-0a60-459d-9d4d-94a39db4cd83"
      },
      "execution_count": null,
      "outputs": [
        {
          "output_type": "stream",
          "name": "stdout",
          "text": [
            "Cloning into 'functorch'...\n",
            "remote: Enumerating objects: 16561, done.\u001b[K\n",
            "remote: Counting objects: 100% (16560/16560), done.\u001b[K\n",
            "remote: Compressing objects: 100% (4205/4205), done.\u001b[K\n",
            "remote: Total 16561 (delta 12227), reused 16345 (delta 12073), pack-reused 1\u001b[K\n",
            "Receiving objects: 100% (16561/16561), 9.33 MiB | 15.52 MiB/s, done.\n",
            "Resolving deltas: 100% (12227/12227), done.\n",
            "Looking in indexes: https://pypi.org/simple, https://us-python.pkg.dev/colab-wheels/public/simple/\n",
            "Collecting functorch\n",
            "  Downloading functorch-1.13.0-py2.py3-none-any.whl (2.1 kB)\n",
            "Requirement already satisfied: torch<1.13.1,>=1.13.0 in /usr/local/lib/python3.7/dist-packages (from functorch) (1.13.0)\n",
            "Requirement already satisfied: typing-extensions in /usr/local/lib/python3.7/dist-packages (from torch<1.13.1,>=1.13.0->functorch) (4.4.0)\n",
            "Requirement already satisfied: nvidia-cudnn-cu11==8.5.0.96 in /usr/local/lib/python3.7/dist-packages (from torch<1.13.1,>=1.13.0->functorch) (8.5.0.96)\n",
            "Requirement already satisfied: nvidia-cuda-nvrtc-cu11==11.7.99 in /usr/local/lib/python3.7/dist-packages (from torch<1.13.1,>=1.13.0->functorch) (11.7.99)\n",
            "Requirement already satisfied: nvidia-cublas-cu11==11.10.3.66 in /usr/local/lib/python3.7/dist-packages (from torch<1.13.1,>=1.13.0->functorch) (11.10.3.66)\n",
            "Requirement already satisfied: nvidia-cuda-runtime-cu11==11.7.99 in /usr/local/lib/python3.7/dist-packages (from torch<1.13.1,>=1.13.0->functorch) (11.7.99)\n",
            "Requirement already satisfied: wheel in /usr/local/lib/python3.7/dist-packages (from nvidia-cublas-cu11==11.10.3.66->torch<1.13.1,>=1.13.0->functorch) (0.38.3)\n",
            "Requirement already satisfied: setuptools in /usr/local/lib/python3.7/dist-packages (from nvidia-cublas-cu11==11.10.3.66->torch<1.13.1,>=1.13.0->functorch) (57.4.0)\n",
            "Installing collected packages: functorch\n",
            "Successfully installed functorch-1.13.0\n"
          ]
        }
      ]
    },
    {
      "cell_type": "code",
      "source": [
        "print(\"--> Restarting colab instance\") \n",
        "get_ipython().kernel.do_shutdown(True)"
      ],
      "metadata": {
        "colab": {
          "base_uri": "https://localhost:8080/"
        },
        "id": "y_qw6pbudalt",
        "outputId": "23977fb3-3738-4010-d4e4-b063c190671e"
      },
      "execution_count": null,
      "outputs": [
        {
          "output_type": "stream",
          "name": "stdout",
          "text": [
            "--> Restarting colab instance\n"
          ]
        },
        {
          "output_type": "execute_result",
          "data": {
            "text/plain": [
              "{'status': 'ok', 'restart': True}"
            ]
          },
          "metadata": {},
          "execution_count": 4
        }
      ]
    },
    {
      "cell_type": "code",
      "source": [
        "import torch\n",
        "from functorch import vmap, grad\n",
        "\n",
        "x = torch.randn(3)\n",
        "y = vmap(torch.sin)(x)\n",
        "assert torch.allclose(y, x.sin())\n",
        "\n",
        "x = torch.randn([])\n",
        "y = grad(torch.sin)(x)\n",
        "assert torch.allclose(y, x.cos())"
      ],
      "metadata": {
        "id": "QvKk6fyKddvV"
      },
      "execution_count": null,
      "outputs": []
    },
    {
      "cell_type": "code",
      "source": [
        "# !git clone https://github.com/pytorch/torchdynamo\n",
        "# cd torchdynamo\n",
        "# !pip install -r requirements.txt\n",
        "# !pip install -e ."
      ],
      "metadata": {
        "id": "WPiGP7rHaZt8"
      },
      "execution_count": null,
      "outputs": []
    },
    {
      "cell_type": "code",
      "source": [
        "!pip install torchdynamo"
      ],
      "metadata": {
        "colab": {
          "base_uri": "https://localhost:8080/"
        },
        "id": "KwIjKyHPKcpZ",
        "outputId": "defa7d78-1959-467b-fd0a-027ade908d84"
      },
      "execution_count": null,
      "outputs": [
        {
          "output_type": "stream",
          "name": "stdout",
          "text": [
            "Looking in indexes: https://pypi.org/simple, https://us-python.pkg.dev/colab-wheels/public/simple/\n",
            "Collecting torchdynamo\n",
            "  Downloading torchdynamo-1.13.0.tar.gz (274 kB)\n",
            "\u001b[K     |████████████████████████████████| 274 kB 5.2 MB/s \n",
            "\u001b[?25hRequirement already satisfied: torch>=1.13.0 in /usr/local/lib/python3.7/dist-packages (from torchdynamo) (1.13.0)\n",
            "Requirement already satisfied: numpy in /usr/local/lib/python3.7/dist-packages (from torchdynamo) (1.21.6)\n",
            "Requirement already satisfied: tabulate in /usr/local/lib/python3.7/dist-packages (from torchdynamo) (0.8.10)\n",
            "Requirement already satisfied: pyyaml in /usr/local/lib/python3.7/dist-packages (from torchdynamo) (6.0)\n",
            "Requirement already satisfied: dill in /usr/local/lib/python3.7/dist-packages (from torchdynamo) (0.3.6)\n",
            "Requirement already satisfied: jinja2 in /usr/local/lib/python3.7/dist-packages (from torchdynamo) (3.1.2)\n",
            "Requirement already satisfied: networkx in /usr/local/lib/python3.7/dist-packages (from torchdynamo) (2.6.3)\n",
            "Requirement already satisfied: sympy in /usr/local/lib/python3.7/dist-packages (from torchdynamo) (1.10.1)\n",
            "Requirement already satisfied: nvidia-cuda-runtime-cu11==11.7.99 in /usr/local/lib/python3.7/dist-packages (from torch>=1.13.0->torchdynamo) (11.7.99)\n",
            "Requirement already satisfied: nvidia-cublas-cu11==11.10.3.66 in /usr/local/lib/python3.7/dist-packages (from torch>=1.13.0->torchdynamo) (11.10.3.66)\n",
            "Requirement already satisfied: nvidia-cudnn-cu11==8.5.0.96 in /usr/local/lib/python3.7/dist-packages (from torch>=1.13.0->torchdynamo) (8.5.0.96)\n",
            "Requirement already satisfied: typing-extensions in /usr/local/lib/python3.7/dist-packages (from torch>=1.13.0->torchdynamo) (4.4.0)\n",
            "Requirement already satisfied: nvidia-cuda-nvrtc-cu11==11.7.99 in /usr/local/lib/python3.7/dist-packages (from torch>=1.13.0->torchdynamo) (11.7.99)\n",
            "Requirement already satisfied: setuptools in /usr/local/lib/python3.7/dist-packages (from nvidia-cublas-cu11==11.10.3.66->torch>=1.13.0->torchdynamo) (57.4.0)\n",
            "Requirement already satisfied: wheel in /usr/local/lib/python3.7/dist-packages (from nvidia-cublas-cu11==11.10.3.66->torch>=1.13.0->torchdynamo) (0.38.3)\n",
            "Requirement already satisfied: MarkupSafe>=2.0 in /usr/local/lib/python3.7/dist-packages (from jinja2->torchdynamo) (2.1.1)\n",
            "Requirement already satisfied: mpmath>=0.19 in /usr/local/lib/python3.7/dist-packages (from sympy->torchdynamo) (1.2.1)\n",
            "Building wheels for collected packages: torchdynamo\n",
            "  Building wheel for torchdynamo (setup.py) ... \u001b[?25l\u001b[?25hdone\n",
            "  Created wheel for torchdynamo: filename=torchdynamo-1.13.0-cp37-cp37m-linux_x86_64.whl size=2700366 sha256=418ac2c149c3c51bb010610a2442d05ac6c151d092122de1fc1c524698858b3c\n",
            "  Stored in directory: /root/.cache/pip/wheels/e2/2d/e2/f0a4a0070b1c5037a796cb199eba4546582d684ac717b30a2b\n",
            "Successfully built torchdynamo\n",
            "Installing collected packages: torchdynamo\n",
            "Successfully installed torchdynamo-1.13.0\n"
          ]
        }
      ]
    },
    {
      "cell_type": "code",
      "source": [
        "!pip3 install git+https://github.com/pytorch/torchdynamo.git@ee1b62f4947a94a87c288f38711de76bfaa2ffd4 --no-cache-dir\n",
        "!pip install matplotlib seaborn"
      ],
      "metadata": {
        "id": "5oYzq-6hVnu8"
      },
      "execution_count": null,
      "outputs": []
    },
    {
      "cell_type": "code",
      "source": [
        "import torch\n",
        "torch._dynamo.list_backends()"
      ],
      "metadata": {
        "colab": {
          "base_uri": "https://localhost:8080/",
          "height": 182
        },
        "id": "yezfpdZ_lW8O",
        "outputId": "c89bb1ec-4cd3-4d86-90ec-b0009bc7a3ab"
      },
      "execution_count": null,
      "outputs": [
        {
          "output_type": "error",
          "ename": "AttributeError",
          "evalue": "ignored",
          "traceback": [
            "\u001b[0;31m---------------------------------------------------------------------------\u001b[0m",
            "\u001b[0;31mAttributeError\u001b[0m                            Traceback (most recent call last)",
            "\u001b[0;32m<ipython-input-3-988a01abb1a2>\u001b[0m in \u001b[0;36m<module>\u001b[0;34m\u001b[0m\n\u001b[1;32m      1\u001b[0m \u001b[0;32mimport\u001b[0m \u001b[0mtorch\u001b[0m\u001b[0;34m\u001b[0m\u001b[0;34m\u001b[0m\u001b[0m\n\u001b[0;32m----> 2\u001b[0;31m \u001b[0mtorch\u001b[0m\u001b[0;34m.\u001b[0m\u001b[0m_dynamo\u001b[0m\u001b[0;34m.\u001b[0m\u001b[0mlist_backends\u001b[0m\u001b[0;34m(\u001b[0m\u001b[0;34m)\u001b[0m\u001b[0;34m\u001b[0m\u001b[0;34m\u001b[0m\u001b[0m\n\u001b[0m",
            "\u001b[0;31mAttributeError\u001b[0m: module 'torch' has no attribute '_dynamo'"
          ]
        }
      ]
    },
    {
      "cell_type": "code",
      "source": [
        "@torch._dynamo.optimize()\n",
        "def toy_example(a, b):\n",
        "  pritnt(\"ff\")"
      ],
      "metadata": {
        "id": "sjWIN1HClY6U"
      },
      "execution_count": null,
      "outputs": []
    },
    {
      "cell_type": "code",
      "source": [
        "import torch"
      ],
      "metadata": {
        "id": "wC6CEgyNaSLJ"
      },
      "execution_count": null,
      "outputs": []
    },
    {
      "cell_type": "code",
      "source": [],
      "metadata": {
        "id": "PFCRKZ-LaT04"
      },
      "execution_count": null,
      "outputs": []
    },
    {
      "cell_type": "code",
      "source": [
        "import torchdynamo\n",
        "# with torchdynamo.optimize():"
      ],
      "metadata": {
        "id": "MLxgmcdFlFMt"
      },
      "execution_count": null,
      "outputs": []
    },
    {
      "cell_type": "code",
      "source": [
        "import torchdynamo\n",
        "from torchdynamo.optimizations.training import aot_autograd_speedup_strategy\n",
        "# with torchdynamo.optimize(aot_autograd_speedup_strategy):\n",
        "  # print(\"ff\")"
      ],
      "metadata": {
        "id": "Yb25pSDxjn9_"
      },
      "execution_count": null,
      "outputs": []
    },
    {
      "cell_type": "code",
      "source": [
        "start = time.time()\n",
        "with autocast():\n",
        "    for i in range(100):\n",
        "        pred = model.reco_predictor.model(input2.cuda())\n",
        "print(\"fp16 gpu pytorch time big batch\", time.time() - start)\n",
        "# print(np.testing.assert_allclose(valid_pred.detach().cpu().numpy(), pred.detach().cpu().numpy(), rtol=1e-3, atol=1e-5))\n"
      ],
      "metadata": {
        "id": "f3gyL4D4d-Cn"
      },
      "execution_count": null,
      "outputs": []
    },
    {
      "cell_type": "code",
      "source": [
        "#fp32 onnx conversion\n",
        "input = input.to(torch.float32)\n",
        "input2 = input2.to(torch.float32)\n",
        "torch.onnx.export(model.reco_predictor.model.to(torch.float32),\n",
        "                  input.cuda(),\n",
        "                  \"rec.onnx\",\n",
        "                  export_params = True,\n",
        "                  opset_version=11,\n",
        "                  do_constant_folding=True,\n",
        "                  input_names = [\"input\"],\n",
        "                  output_names = [\"output\"],\n",
        "                  dynamic_axes = {\"input\":{0:\"batch_size\"},\n",
        "                                  \"output\":{0:\"batch_size\"}})"
      ],
      "metadata": {
        "id": "-b6agDGGlbQ0"
      },
      "execution_count": null,
      "outputs": []
    },
    {
      "cell_type": "code",
      "source": [
        "\n",
        "ort_session = onnxruntime.InferenceSession(\"rec.onnx\", providers = ['CUDAExecutionProvider'])\n",
        "ort_inputs = {\"input\":input.numpy()}\n",
        "start = time.time()\n",
        "ort_outs = ort_session.run(None, ort_inputs)\n",
        "print(\"first sample time onnx fp32 cuda\", time.time() - start)\n",
        "start = time.time()\n",
        "for i in range(100):\n",
        "    ort_outs = ort_session.run(None, ort_inputs)\n",
        "print(\"fp32 onnx time single sample cuda\", time.time() - start)\n"
      ],
      "metadata": {
        "id": "N4FkQahflgm5"
      },
      "execution_count": null,
      "outputs": []
    }
  ]
}